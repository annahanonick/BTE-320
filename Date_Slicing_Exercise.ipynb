{
  "nbformat": 4,
  "nbformat_minor": 0,
  "metadata": {
    "colab": {
      "provenance": [],
      "authorship_tag": "ABX9TyP9IaHLNIOohUWehrXIZgER",
      "include_colab_link": true
    },
    "kernelspec": {
      "name": "python3",
      "display_name": "Python 3"
    },
    "language_info": {
      "name": "python"
    }
  },
  "cells": [
    {
      "cell_type": "markdown",
      "metadata": {
        "id": "view-in-github",
        "colab_type": "text"
      },
      "source": [
        "<a href=\"https://colab.research.google.com/github/annahanonick/BTE-320/blob/main/Date_Slicing_Exercise.ipynb\" target=\"_parent\"><img src=\"https://colab.research.google.com/assets/colab-badge.svg\" alt=\"Open In Colab\"/></a>"
      ]
    },
    {
      "cell_type": "code",
      "execution_count": 1,
      "metadata": {
        "colab": {
          "base_uri": "https://localhost:8080/"
        },
        "id": "_fQfW6La41C_",
        "outputId": "1faabe54-d586-478a-9451-d08f23bdef5f"
      },
      "outputs": [
        {
          "output_type": "stream",
          "name": "stdout",
          "text": [
            "Enter Date(MM/DD/YYYY):02/20/2024\n",
            "02 20 2024\n"
          ]
        }
      ],
      "source": [
        "date = input('Enter Date(MM/DD/YYYY):')\n",
        "\n",
        "month = date[:2]\n",
        "day = date[3:5]\n",
        "year = date [6:]\n",
        "print(month,day,year)"
      ]
    }
  ]
}