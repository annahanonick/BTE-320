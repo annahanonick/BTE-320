{
  "cells": [
    {
      "cell_type": "markdown",
      "metadata": {
        "id": "view-in-github",
        "colab_type": "text"
      },
      "source": [
        "<a href=\"https://colab.research.google.com/github/annahanonick/BTE-320/blob/main/Lecture_3%2C_Strings.ipynb\" target=\"_parent\"><img src=\"https://colab.research.google.com/assets/colab-badge.svg\" alt=\"Open In Colab\"/></a>"
      ]
    },
    {
      "cell_type": "code",
      "execution_count": null,
      "metadata": {
        "id": "U-uH6ZKt3ZEx"
      },
      "outputs": [],
      "source": [
        "!jt -t grade3 -tf merriserif -tfs 14 -nf ptsans -nfs 16"
      ]
    },
    {
      "cell_type": "code",
      "source": [
        "x = 5\n",
        "while x > 0:\n",
        "  print(x)\n",
        "  x -= 1\n"
      ],
      "metadata": {
        "colab": {
          "base_uri": "https://localhost:8080/"
        },
        "id": "psQ8kWKNmN97",
        "outputId": "41a5f7c0-20f8-4503-c4c5-5a5cf2e686e3"
      },
      "execution_count": 3,
      "outputs": [
        {
          "output_type": "stream",
          "name": "stdout",
          "text": [
            "5\n",
            "4\n",
            "3\n",
            "2\n",
            "1\n"
          ]
        }
      ]
    },
    {
      "cell_type": "markdown",
      "source": [
        "class example 1."
      ],
      "metadata": {
        "id": "OxZvT7_w7XCh"
      }
    },
    {
      "cell_type": "code",
      "source": [
        "s= 'this is a test'"
      ],
      "metadata": {
        "id": "qCE9JPDS6mpp"
      },
      "execution_count": null,
      "outputs": []
    },
    {
      "cell_type": "code",
      "source": [
        "s[8]"
      ],
      "metadata": {
        "colab": {
          "base_uri": "https://localhost:8080/",
          "height": 35
        },
        "id": "P3ryjkaD62eu",
        "outputId": "cc6a6661-948a-4270-82b4-99be6a8bec5c"
      },
      "execution_count": null,
      "outputs": [
        {
          "output_type": "execute_result",
          "data": {
            "text/plain": [
              "'a'"
            ],
            "application/vnd.google.colaboratory.intrinsic+json": {
              "type": "string"
            }
          },
          "metadata": {},
          "execution_count": 4
        }
      ]
    },
    {
      "cell_type": "code",
      "source": [
        "s + ', and this is a test too'"
      ],
      "metadata": {
        "colab": {
          "base_uri": "https://localhost:8080/",
          "height": 35
        },
        "id": "3hlo57AD7Bi-",
        "outputId": "60efad60-5964-446e-addc-daf915acc17c"
      },
      "execution_count": null,
      "outputs": [
        {
          "output_type": "execute_result",
          "data": {
            "text/plain": [
              "'this is a test, and this is a test too'"
            ],
            "application/vnd.google.colaboratory.intrinsic+json": {
              "type": "string"
            }
          },
          "metadata": {},
          "execution_count": 5
        }
      ]
    },
    {
      "cell_type": "code",
      "source": [
        "len(s)"
      ],
      "metadata": {
        "colab": {
          "base_uri": "https://localhost:8080/"
        },
        "id": "1xgWMXGN6oyu",
        "outputId": "f75e2526-1280-43cb-d950-1c5defc96422"
      },
      "execution_count": null,
      "outputs": [
        {
          "output_type": "execute_result",
          "data": {
            "text/plain": [
              "14"
            ]
          },
          "metadata": {},
          "execution_count": 3
        }
      ]
    },
    {
      "cell_type": "code",
      "source": [
        "s2 = 'a'\n",
        "print(3*s2)"
      ],
      "metadata": {
        "colab": {
          "base_uri": "https://localhost:8080/"
        },
        "id": "_i3IMd0-7bFt",
        "outputId": "812bcdba-89fc-4bc6-a33b-cb96af26fed8"
      },
      "execution_count": null,
      "outputs": [
        {
          "output_type": "stream",
          "name": "stdout",
          "text": [
            "aaa\n"
          ]
        }
      ]
    },
    {
      "cell_type": "code",
      "source": [
        "[7] print(s)\n",
        "    this is a test"
      ],
      "metadata": {
        "id": "peBWp2d9-bTK"
      },
      "execution_count": null,
      "outputs": []
    },
    {
      "cell_type": "code",
      "source": [
        "new_s = s[5:7:1]\n",
        "print(new_s)"
      ],
      "metadata": {
        "colab": {
          "base_uri": "https://localhost:8080/"
        },
        "id": "9ICL5ZlU-iEb",
        "outputId": "f24cd37e-f2cb-4d48-aaca-697f54d246a7"
      },
      "execution_count": null,
      "outputs": [
        {
          "output_type": "stream",
          "name": "stdout",
          "text": [
            "is\n"
          ]
        }
      ]
    },
    {
      "cell_type": "code",
      "source": [
        "new_s = s[1:len(s):2]\n",
        "print(new_s)"
      ],
      "metadata": {
        "colab": {
          "base_uri": "https://localhost:8080/"
        },
        "id": "vOv_tm-5_NE7",
        "outputId": "d9110d90-6696-49a9-ad6b-c1a61c058c16"
      },
      "execution_count": null,
      "outputs": [
        {
          "output_type": "stream",
          "name": "stdout",
          "text": [
            "hsi  et\n"
          ]
        }
      ]
    },
    {
      "cell_type": "code",
      "source": [
        "ex = \"this is another test!\"\n",
        "print(ex[len(ex)-1], ex[20])"
      ],
      "metadata": {
        "colab": {
          "base_uri": "https://localhost:8080/"
        },
        "id": "8IV9kMKf_pYs",
        "outputId": "f5745d17-ea17-4f79-b5b7-cb8c1a0bc968"
      },
      "execution_count": null,
      "outputs": [
        {
          "output_type": "stream",
          "name": "stdout",
          "text": [
            "! !\n"
          ]
        }
      ]
    },
    {
      "cell_type": "code",
      "source": [
        "print(ex[8:15:1])"
      ],
      "metadata": {
        "colab": {
          "base_uri": "https://localhost:8080/"
        },
        "id": "75NwsQ1vAYII",
        "outputId": "9cf0b19e-5dce-43ed-90fb-bb733e53c3ce"
      },
      "execution_count": null,
      "outputs": [
        {
          "output_type": "stream",
          "name": "stdout",
          "text": [
            "another\n"
          ]
        }
      ]
    },
    {
      "cell_type": "code",
      "source": [
        "print(ex[8:15:2])"
      ],
      "metadata": {
        "colab": {
          "base_uri": "https://localhost:8080/"
        },
        "id": "4Ul_AwtJBw6E",
        "outputId": "c7dc239c-fbeb-4a7c-959f-c538596a9f3d"
      },
      "execution_count": null,
      "outputs": [
        {
          "output_type": "stream",
          "name": "stdout",
          "text": [
            "aohr\n"
          ]
        }
      ]
    },
    {
      "cell_type": "code",
      "source": [
        "ex[0:4]"
      ],
      "metadata": {
        "colab": {
          "base_uri": "https://localhost:8080/",
          "height": 35
        },
        "id": "4r1J3CGYC2ni",
        "outputId": "06a5d934-12d0-4d93-bf16-e7c53df90866"
      },
      "execution_count": null,
      "outputs": [
        {
          "output_type": "execute_result",
          "data": {
            "text/plain": [
              "'this'"
            ],
            "application/vnd.google.colaboratory.intrinsic+json": {
              "type": "string"
            }
          },
          "metadata": {},
          "execution_count": 16
        }
      ]
    },
    {
      "cell_type": "code",
      "source": [
        "ex[16:]"
      ],
      "metadata": {
        "colab": {
          "base_uri": "https://localhost:8080/",
          "height": 35
        },
        "id": "JRuOUCS5DQTA",
        "outputId": "c6075fd2-f00e-4509-f037-84648eb5e444"
      },
      "execution_count": null,
      "outputs": [
        {
          "output_type": "execute_result",
          "data": {
            "text/plain": [
              "'test!'"
            ],
            "application/vnd.google.colaboratory.intrinsic+json": {
              "type": "string"
            }
          },
          "metadata": {},
          "execution_count": 18
        }
      ]
    },
    {
      "cell_type": "markdown",
      "source": [
        "write a program that takes as input from the keyboard a string that corresponds to a date (02/20/2024)\n",
        "1 variable only containing month,\n",
        "1 containing day\n",
        "1 contianing year mm/dd/yyyy"
      ],
      "metadata": {
        "id": "XXu9oZPAxA0W"
      }
    },
    {
      "cell_type": "code",
      "source": [
        "s1= input('02/20/2024')\n",
        "month = s1[0,1]\n",
        "date = s2 [3,4]\n",
        "year = s3 [6,7,8,9]\n",
        "print(s1,s2,s3)"
      ],
      "metadata": {
        "colab": {
          "base_uri": "https://localhost:8080/",
          "height": 233
        },
        "id": "ux8Dc46vxYW2",
        "outputId": "d2fea769-8452-4a39-f74f-2759ee5c00e4"
      },
      "execution_count": 8,
      "outputs": [
        {
          "name": "stdout",
          "output_type": "stream",
          "text": [
            "02/20/202402/20/2024\n"
          ]
        },
        {
          "output_type": "error",
          "ename": "TypeError",
          "evalue": "string indices must be integers",
          "traceback": [
            "\u001b[0;31m---------------------------------------------------------------------------\u001b[0m",
            "\u001b[0;31mTypeError\u001b[0m                                 Traceback (most recent call last)",
            "\u001b[0;32m<ipython-input-8-32d8f5bff035>\u001b[0m in \u001b[0;36m<cell line: 2>\u001b[0;34m()\u001b[0m\n\u001b[1;32m      1\u001b[0m \u001b[0ms1\u001b[0m\u001b[0;34m=\u001b[0m \u001b[0minput\u001b[0m\u001b[0;34m(\u001b[0m\u001b[0;34m'02/20/2024'\u001b[0m\u001b[0;34m)\u001b[0m\u001b[0;34m\u001b[0m\u001b[0;34m\u001b[0m\u001b[0m\n\u001b[0;32m----> 2\u001b[0;31m \u001b[0mmonth\u001b[0m \u001b[0;34m=\u001b[0m \u001b[0ms1\u001b[0m\u001b[0;34m[\u001b[0m\u001b[0;36m0\u001b[0m\u001b[0;34m,\u001b[0m\u001b[0;36m1\u001b[0m\u001b[0;34m]\u001b[0m\u001b[0;34m\u001b[0m\u001b[0;34m\u001b[0m\u001b[0m\n\u001b[0m\u001b[1;32m      3\u001b[0m \u001b[0mdate\u001b[0m \u001b[0;34m=\u001b[0m \u001b[0ms2\u001b[0m \u001b[0;34m[\u001b[0m\u001b[0;36m3\u001b[0m\u001b[0;34m,\u001b[0m\u001b[0;36m4\u001b[0m\u001b[0;34m]\u001b[0m\u001b[0;34m\u001b[0m\u001b[0;34m\u001b[0m\u001b[0m\n\u001b[1;32m      4\u001b[0m \u001b[0myear\u001b[0m \u001b[0;34m=\u001b[0m \u001b[0ms3\u001b[0m \u001b[0;34m[\u001b[0m\u001b[0;36m6\u001b[0m\u001b[0;34m,\u001b[0m\u001b[0;36m7\u001b[0m\u001b[0;34m,\u001b[0m\u001b[0;36m8\u001b[0m\u001b[0;34m,\u001b[0m\u001b[0;36m9\u001b[0m\u001b[0;34m]\u001b[0m\u001b[0;34m\u001b[0m\u001b[0;34m\u001b[0m\u001b[0m\n\u001b[1;32m      5\u001b[0m \u001b[0mprint\u001b[0m\u001b[0;34m(\u001b[0m\u001b[0ms1\u001b[0m\u001b[0;34m,\u001b[0m\u001b[0ms2\u001b[0m\u001b[0;34m,\u001b[0m\u001b[0ms3\u001b[0m\u001b[0;34m)\u001b[0m\u001b[0;34m\u001b[0m\u001b[0;34m\u001b[0m\u001b[0m\n",
            "\u001b[0;31mTypeError\u001b[0m: string indices must be integers"
          ]
        }
      ]
    },
    {
      "cell_type": "markdown",
      "metadata": {
        "id": "kpU6GhlQ3ZE1"
      },
      "source": [
        "# Strings - `Input()` function\n",
        "\n",
        "In this lecture, we will introduce ourselves in the first of the Python-native complex objects, strings.\n",
        "\n",
        "We have already seen strings when discussing about function `print()`. Now is the time to go a bit deeper and see how can we work with them, and manipulate them.\n",
        "\n",
        "Many of the techniques discussed in this chapter can be used in exact the same way for other complex objects, like tuples, lists, and dictionaries.\n",
        "\n",
        "Except strings, we will also discuss another built-in function that we used in examples before. This is the `input()` function that allows the user to give input values to variables directly from the keyboard."
      ]
    },
    {
      "cell_type": "markdown",
      "metadata": {
        "id": "fFh0VdFE3ZE2"
      },
      "source": [
        "## Strings\n",
        "\n",
        "- As we saw before, objects of type `str` represent characters\n",
        "- Character objects can be written either using single (`'abc'`), or double quotes (`\"abc\"`), but not by combining them.\n",
        "\n",
        "Quick test: `'123'` is character or number?"
      ]
    },
    {
      "cell_type": "markdown",
      "metadata": {
        "id": "dLFj_RgG3ZE3"
      },
      "source": [
        "## Overloaded operators: How to apply mathematical operators on non-numerical objects\n",
        "\n",
        "Strings can be manipulated similar to numerical objects in many ways.\n",
        "- Specifically, we can add strings together or multiply strings with integers.\n",
        "- Strings in Python are **immutable**: Once created, we cannot manipulate them by substituting letters, or substrings, with new ones.\n",
        "\n",
        "Regarding the former, the common numerical operators (`+`, `*`) can be used in strings too, under certain conditions:\n",
        "- These common operators have different meaning depending on the objects they are applied upon\n",
        "    - `+` means addition when objects are both numbers, or concatenation when objects are strings\n",
        "        * Example: `3 + 4 = 7`, `'a' + 'a' = 'aa'`\n",
        "        * Adding a string with a non-string object is **not** allowed: `'a' + 3` will return a type error.\n",
        "    - `*` mean multiplication for number objects, repetition when applied to an `int` and a `str`\n",
        "        * Expression `n*s`, with `n` an `int` and `s` a `str` returns a `str` with `s` repeated `n` times.\n",
        "        * Example: expression `3*'a'` returns a string of characters `a` repeated three times\n",
        "        * multiplying strings with strings is **not** allowed: `'a'*'a'` will return a type error"
      ]
    },
    {
      "cell_type": "code",
      "source": [
        "a = 2\n",
        "a*'a'"
      ],
      "metadata": {
        "id": "KkIMi3ZthsT1"
      },
      "execution_count": null,
      "outputs": []
    },
    {
      "cell_type": "markdown",
      "metadata": {
        "id": "eGkb1foR3ZE3"
      },
      "source": [
        "Python uses **type checking** to warn us of those errors\n",
        "- They capture errors that might not be obvious while writing code\n",
        "- Example: what '4' < 3 will return?\n",
        "\n",
        "Let's see below some examples of applying those operators on strings:"
      ]
    },
    {
      "cell_type": "code",
      "execution_count": null,
      "metadata": {
        "id": "fRdXAD7m3ZE4"
      },
      "outputs": [],
      "source": [
        "print('a')\n",
        "print(3*4)\n",
        "print(3*'a')\n",
        "print(3+4)\n",
        "print('a'+'a')\n",
        "\n",
        "print('a'*'a')"
      ]
    },
    {
      "cell_type": "markdown",
      "metadata": {
        "id": "-GbJIdvQ3ZE5"
      },
      "source": [
        "In general, there are three main operations we can perform with strings:\n",
        "* find their length,\n",
        "* access a single character using its *index*, and\n",
        "* access a substring.\n",
        "\n",
        "These operations can be used on tuples and lists as well, so make sure you understand how they work.\n",
        "\n",
        "<img src=\"https://drive.google.com/uc?id=1qtJBaJmsJomSkMtqpjrg4KjfZGuRdfM_\" width=800/>\n"
      ]
    },
    {
      "cell_type": "markdown",
      "metadata": {
        "id": "iX53FSSO3ZE6"
      },
      "source": [
        "### Indexing\n",
        "\n",
        "Before going into detail on those operations, we need to clarify the concept of *enumeration*.\n",
        "\n",
        "In Python, enumeration **always** starts from 0. Hence, for string `\"Hello world\"`, letter `H` will have index 0, `e` will have index 1, and so on.\n",
        "\n",
        "In the previous lecture we discussed function `range()`:\n",
        "- `range(3)` returns `0, 1, 2`, hence three numbers in total.\n",
        "- Indexing follows the same logic. For example, for a string of length 5, the indexes associated with it are `0, 1, 2, 3, 4`\n",
        "\n",
        "Let's see how those apply to the aforementioned operations.\n",
        "\n",
        "\n",
        "1. *Length*: `len('abc')` returns 3\n",
        "2. *Indexing*: `'abc'[0]` returns `'a'`, `'abc'[3]` returns an index error\n",
        "    * We are also allowd to use negative values to index beginning from the end of the string\n",
        "    * Example: `'abc'[-1]` returns `c`\n",
        "    <img src=\"https://drive.google.com/uc?id=1M_NftWz5o_xSdI7aSWqmtQikHa1MhFNe\" width=800/>\n",
        "3. *Slicing*: Used to access parts of sequences like lists, tuples, and strings. For a string `s`, `s[start:end]` returns a partial string starting from index `start` and ending on `end-1`\n",
        "    * Example: `'abc'[1:3]` returns `bc`\n",
        "    * Q: What does `'abc'[0:len('abc')]` returns?\n",
        "    * Slicing process shows many similarities to how function `range()` works, using the same keywords. However, it is rare to use `step`, so it is usually omitted."
      ]
    },
    {
      "cell_type": "markdown",
      "metadata": {
        "id": "BDM_fIro3ZE6"
      },
      "source": [
        "- `'abc'[:2]` is equivalent to `'abc'[0:2]`, `'abc'[1:]` is equivalent to `'abc'[1:len('abc')]`\n",
        "- `'abc'[:]` is equivalent to `'abc'[0:len('abc')]`\n",
        "- Use a third step argument to select indices every step values:\n",
        "    * `'123456789'[0:8:2]` returns `1357`"
      ]
    },
    {
      "cell_type": "code",
      "source": [
        "s = 'This is a string'\n",
        "print(s[15], s[len(s) - 1], s[-1])"
      ],
      "metadata": {
        "id": "2d9QeoOzykNW"
      },
      "execution_count": null,
      "outputs": []
    },
    {
      "cell_type": "markdown",
      "metadata": {
        "id": "A63NCg2_3ZE7"
      },
      "source": [
        "We can also define *empty* strings when necessary.\n",
        "\n",
        "For example, if you want to create a new string using iterative branching, then the first thing you should do is define an empty string that will populate during iterations:\n",
        "\n",
        "```python\n",
        "# Initial (empty) string\n",
        "s = ''\n",
        "\n",
        "for _ in range(5):\n",
        "    s += 'a'\n",
        "print(s)\n",
        "# prints out 'aaaaa'\n",
        "```"
      ]
    },
    {
      "cell_type": "code",
      "execution_count": null,
      "metadata": {
        "id": "JQ3ssDbG3ZE8"
      },
      "outputs": [],
      "source": [
        "s = ''\n",
        "\n",
        "for _ in range(5):\n",
        "    s += 'a'\n",
        "print(s)"
      ]
    },
    {
      "cell_type": "markdown",
      "metadata": {
        "id": "HiSpr4sv3ZE8"
      },
      "source": [
        "### Type casting\n",
        "\n",
        "We discussed multiple times previously the concept of **type casting**.\n",
        "- E.g., `print()` casts non-string objects to strings before flushing them on the screen.\n",
        "\n",
        "Used often in Python\n",
        "- Use type name to convert values to that type. E.g., `int('3')` returns `3`\n",
        "\n",
        "Here is a list of all type casting functions allowed in Python:\n",
        " - **int()** – converts any data type into integer type\n",
        " - **float()** – converts any data type into float type\n",
        " - **ord()** – converts characters into integer\n",
        " - **hex()** – converts integers to hexadecimal\n",
        " - **oct()** – converts integer to octal\n",
        " - **tuple()** – function is used to convert to a tuple.\n",
        " - **set()** – function returns the type after converting to set.\n",
        " - **list()** – function is used to convert any data type to a list type.\n",
        " - **dict()** – function is used to convert a tuple of order (key, value) into a dictionary.\n",
        " - **str()** – converts integer into a string.\n",
        " - **complex(real,imag)** – This function converts real numbers to complex(real,imag) number.\n",
        "\n",
        "*Be careful with type casts.*\n",
        " - A `float` converted to `int` will truncate (not round up/down) decimals. E.g., `int(3.9)` returns `3`\n",
        "\n",
        "Let's see some examples of type conversions used in `print`:"
      ]
    },
    {
      "cell_type": "code",
      "execution_count": null,
      "metadata": {
        "id": "lweTmwXu3ZE9"
      },
      "outputs": [],
      "source": [
        "num = 30000000\n",
        "fraction = 1/2\n",
        "print(num*fraction, 'is', fraction*100, '%', 'of', num)\n",
        "print(num*fraction, 'is', str(fraction*100) + '%', 'of', num)\n",
        "\n",
        "print(int(num*fraction), 'is', str(fraction*100) + '%', 'of', num)\n",
        "\n",
        "# print with f-strings\n",
        "print(f'{int(num*fraction)} is {fraction*100}% of {num}')\n",
        "\n",
        "# print with f-strings and control modifiers. Comma modifier instructs Python to use commas on thousands\n",
        "print(f'{num*fraction:,.0f} is {fraction*100}% of {num:,}')"
      ]
    },
    {
      "cell_type": "markdown",
      "metadata": {
        "id": "O2QU8Wgi3ZE9"
      },
      "source": [
        "Decimal `.0` appears because `fraction` is a float, and multiplying an `int` with a `float` returns `float`\n",
        "\n",
        "After Python 3.6, string expressions in `print` function can\n",
        "\n",
        "A nice property of `f-strings` is that they are useful to control the appearance of the output using *control modifiers*\n",
        "- Use colon `:` to separate the expression from the control modifier\n",
        "    * `f'{3.14159:.2f}'` evaluates the expression `3.14159` to `3.14` (`.2` denotes two decimals)"
      ]
    },
    {
      "cell_type": "markdown",
      "metadata": {
        "id": "v9jFJK8w3ZE_"
      },
      "source": [
        "### Strings and Loops\n",
        "\n",
        "Strings (as also tuples and lists) are considered **sequential objects**. Hence, we can use them as iterables in a `for` loop.\n",
        "\n",
        "Now that you know how iterations work and how strings can be manipulated, let's see an example where we want to iterate over a string's characters.\n",
        "\n",
        "The following code fragments do the same thing.\n",
        "- In the first approach, we iterate over the string characters via their *indexes*\n",
        "  * This is obvious because of the square brackets `[]` and how the function `range()` is used (`end=len(s)`)\n",
        "- The second fragment is more \"Pythonic\".\n",
        "  * We don't iterate over characters via their indexes, but over them directly.\n",
        "  * That way, we avoid using all those brackets seen in the first approach. Makes the process more robust to syntax erros.\n",
        "\n",
        "Both approaches are equivalent and you can use anyone you like.\n",
        "\n",
        "```python\n",
        "s = \"abcdefgh\"\n",
        "for index in range(len(s)):\n",
        "    if s[index] == 'i' or s[index] == 'u':\n",
        "        print(\"There is an i or u\")\n",
        "\n",
        "for char in s:\n",
        "    if char == 'i' or char == 'u':\n",
        "        print(\"There is an i or u\")\n",
        "```"
      ]
    },
    {
      "cell_type": "markdown",
      "metadata": {
        "id": "C2aZGyUj3ZE_"
      },
      "source": [
        "**Finger exercise**: Write a Python script that first compares the length of two strings. If they are equal in length, print common letters between them.\n",
        "\n",
        "String 1: `UM rocks!`, String 2: `i rock UM`"
      ]
    },
    {
      "cell_type": "code",
      "source": [
        "s1 = \"UM rocks!\"\n",
        "s2 = \"i rock UM\"\n",
        "\n",
        "if len(s1) == len(s2):\n",
        "  for char in s1:\n",
        "    if char in s2 and char != ' ':\n",
        "      print('Letter', char, 'is common in both strings')"
      ],
      "metadata": {
        "id": "fnfZk2or15Pq"
      },
      "execution_count": null,
      "outputs": []
    },
    {
      "cell_type": "code",
      "source": [],
      "metadata": {
        "id": "jfhyKvZmpjd7"
      },
      "execution_count": null,
      "outputs": []
    }
  ],
  "metadata": {
    "celltoolbar": "Slideshow",
    "kernelspec": {
      "display_name": "Python 3 (ipykernel)",
      "language": "python",
      "name": "python3"
    },
    "language_info": {
      "codemirror_mode": {
        "name": "ipython",
        "version": 3
      },
      "file_extension": ".py",
      "mimetype": "text/x-python",
      "name": "python",
      "nbconvert_exporter": "python",
      "pygments_lexer": "ipython3",
      "version": "3.8.2"
    },
    "colab": {
      "provenance": [],
      "include_colab_link": true
    }
  },
  "nbformat": 4,
  "nbformat_minor": 0
}