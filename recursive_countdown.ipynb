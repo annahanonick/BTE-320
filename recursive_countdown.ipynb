{
  "nbformat": 4,
  "nbformat_minor": 0,
  "metadata": {
    "colab": {
      "provenance": [],
      "authorship_tag": "ABX9TyNj8IUKEc2WqICYbOFb/chT",
      "include_colab_link": true
    },
    "kernelspec": {
      "name": "python3",
      "display_name": "Python 3"
    },
    "language_info": {
      "name": "python"
    }
  },
  "cells": [
    {
      "cell_type": "markdown",
      "metadata": {
        "id": "view-in-github",
        "colab_type": "text"
      },
      "source": [
        "<a href=\"https://colab.research.google.com/github/annahanonick/BTE-320/blob/main/recursive_countdown.ipynb\" target=\"_parent\"><img src=\"https://colab.research.google.com/assets/colab-badge.svg\" alt=\"Open In Colab\"/></a>"
      ]
    },
    {
      "cell_type": "code",
      "execution_count": null,
      "metadata": {
        "colab": {
          "base_uri": "https://localhost:8080/"
        },
        "id": "zf3ptWCAp0HO",
        "outputId": "bc03769f-75bc-4f96-ae62-7d9b36f49297"
      },
      "outputs": [
        {
          "output_type": "stream",
          "name": "stdout",
          "text": [
            "5\n",
            "4\n",
            "3\n",
            "2\n",
            "1\n",
            "0\n"
          ]
        }
      ],
      "source": [
        "def countdown(n):\n",
        "  for i in range(n, -1,-1):\n",
        "    print(i)\n",
        "\n",
        "countdown(5)"
      ]
    },
    {
      "cell_type": "code",
      "source": [],
      "metadata": {
        "id": "8UC2DCxetRAx"
      },
      "execution_count": null,
      "outputs": []
    },
    {
      "cell_type": "code",
      "source": [],
      "metadata": {
        "id": "TvDU42tu-pJj"
      },
      "execution_count": null,
      "outputs": []
    },
    {
      "cell_type": "code",
      "source": [],
      "metadata": {
        "id": "Kz2-pVT7-qvK"
      },
      "execution_count": null,
      "outputs": []
    },
    {
      "cell_type": "markdown",
      "source": [
        "Base case: trivialized version of the problem\n",
        "Inductive case: split problem into smaller, simpler versions of itself"
      ],
      "metadata": {
        "id": "hSdvX6oAq01M"
      }
    },
    {
      "cell_type": "code",
      "source": [
        "def countdown (n):\n",
        "  while n >= 0:\n",
        "    print(n)\n",
        "    n=n-1\n",
        "countdown(5)"
      ],
      "metadata": {
        "colab": {
          "base_uri": "https://localhost:8080/"
        },
        "id": "m-bucC5NqHQC",
        "outputId": "9fb45dd4-c115-4b12-d91d-accef5e03f80"
      },
      "execution_count": null,
      "outputs": [
        {
          "output_type": "stream",
          "name": "stdout",
          "text": [
            "5\n",
            "4\n",
            "3\n",
            "2\n",
            "1\n",
            "0\n"
          ]
        }
      ]
    },
    {
      "cell_type": "code",
      "source": [
        "def recursive_countdown(n):\n",
        "  if n == 0: # base case\n",
        "    print(0)\n",
        "  else:\n",
        "    print(n)\n",
        "    recursive_countdown(n-1)\n",
        "\n",
        "recursive_countdown(5)"
      ],
      "metadata": {
        "colab": {
          "base_uri": "https://localhost:8080/"
        },
        "id": "RYRx2prDr7nT",
        "outputId": "155bd493-369a-4505-8874-331744e33940"
      },
      "execution_count": null,
      "outputs": [
        {
          "output_type": "stream",
          "name": "stdout",
          "text": [
            "5\n",
            "4\n",
            "3\n",
            "2\n",
            "1\n",
            "0\n"
          ]
        }
      ]
    },
    {
      "cell_type": "markdown",
      "source": [
        "conditionals are much simpler, whereas the example above has iterations which makes it complicated.\n",
        "\n",
        "Difference is that one is a classic approach and one is recursive, the classic approach has an iteration and the recursive one doesnt"
      ],
      "metadata": {
        "id": "IBRCJUBEt4Xw"
      }
    },
    {
      "cell_type": "code",
      "source": [
        "def summation(n):\n",
        "  s = 0\n",
        "  while n >= 0:\n",
        "    s = s + n\n",
        "    n = n - 1\n",
        "  return s\n",
        "\n",
        "summation(4)\n"
      ],
      "metadata": {
        "colab": {
          "base_uri": "https://localhost:8080/"
        },
        "id": "NR_s4031vIgT",
        "outputId": "13e4a255-035b-49b6-a2b3-6b3a05cacecb"
      },
      "execution_count": null,
      "outputs": [
        {
          "output_type": "execute_result",
          "data": {
            "text/plain": [
              "10"
            ]
          },
          "metadata": {},
          "execution_count": 22
        }
      ]
    },
    {
      "cell_type": "code",
      "source": [
        "def recursive_summation(n):\n",
        "  if n == 0:\n",
        "    return 0\n",
        "  else:\n",
        "    return n + recursive_summation(n-1)\n",
        "\n",
        "recursive_summation(4)"
      ],
      "metadata": {
        "colab": {
          "base_uri": "https://localhost:8080/"
        },
        "id": "WwAyjIffy2IE",
        "outputId": "46198d3f-2156-4e8e-bc58-1b7082a8c07f"
      },
      "execution_count": null,
      "outputs": [
        {
          "output_type": "execute_result",
          "data": {
            "text/plain": [
              "10"
            ]
          },
          "metadata": {},
          "execution_count": 24
        }
      ]
    },
    {
      "cell_type": "markdown",
      "source": [
        "In class assignment"
      ],
      "metadata": {
        "id": "rqFJa9h3z1U5"
      }
    },
    {
      "cell_type": "code",
      "source": [
        "def recursive_factorial(n):\n",
        "  if n <= 1:\n",
        "    return 1\n",
        "  else:\n",
        "    return n * recursive_factorial(n-1)\n",
        "\n",
        "recursive_factorial(5)"
      ],
      "metadata": {
        "colab": {
          "base_uri": "https://localhost:8080/"
        },
        "id": "o8QdJr9az3ZD",
        "outputId": "7c674e5b-53a7-43ac-f406-0b27f0d03a25"
      },
      "execution_count": null,
      "outputs": [
        {
          "output_type": "execute_result",
          "data": {
            "text/plain": [
              "120"
            ]
          },
          "metadata": {},
          "execution_count": 33
        }
      ]
    },
    {
      "cell_type": "markdown",
      "source": [
        "other way to code above problem"
      ],
      "metadata": {
        "id": "1DeDG1Ns2cBg"
      }
    },
    {
      "cell_type": "code",
      "source": [
        "def factR(n):\n",
        "  if n == 1:\n",
        "    return 1\n",
        "  else:\n",
        "    return n * factR(n-1)\n",
        "\n",
        "factR(5)\n"
      ],
      "metadata": {
        "colab": {
          "base_uri": "https://localhost:8080/"
        },
        "id": "-vZHGXn52fGV",
        "outputId": "1419b982-a390-45c9-d0fc-2502c5b04ddc"
      },
      "execution_count": null,
      "outputs": [
        {
          "output_type": "execute_result",
          "data": {
            "text/plain": [
              "120"
            ]
          },
          "metadata": {},
          "execution_count": 34
        }
      ]
    },
    {
      "cell_type": "code",
      "source": [
        "def fact(n):\n",
        "  prod = 1\n",
        "  while n >= 1:\n",
        "    prod = prod * n\n",
        "    n = n-1\n",
        "    return prod\n",
        "fact(5)"
      ],
      "metadata": {
        "colab": {
          "base_uri": "https://localhost:8080/"
        },
        "id": "WCP45Hap25ZK",
        "outputId": "d73cfc80-37b1-4e46-8c98-8a32d2e9a5d5"
      },
      "execution_count": null,
      "outputs": [
        {
          "output_type": "execute_result",
          "data": {
            "text/plain": [
              "5"
            ]
          },
          "metadata": {},
          "execution_count": 43
        }
      ]
    },
    {
      "cell_type": "markdown",
      "source": [
        "inductive case: n = f(n-1)+ f(n-2)\n",
        "base cases: n =0 f(0)=1\n",
        "            n = 1 f(1)1"
      ],
      "metadata": {
        "id": "l_nMxt1r3iYO"
      }
    },
    {
      "cell_type": "code",
      "source": [
        "def fibR(n):\n",
        "  if n == 0 or n == 1:\n",
        "    return 1\n",
        "  else:\n",
        "    return fibR(n-1) + fibR(n-2)\n",
        "\n",
        "for i in range(8):\n",
        "  print(fibR(i), end=\" \")\n"
      ],
      "metadata": {
        "colab": {
          "base_uri": "https://localhost:8080/"
        },
        "id": "axtrfawb4C1e",
        "outputId": "ada6c744-ae43-4a0c-db0b-44164b11e25b"
      },
      "execution_count": null,
      "outputs": [
        {
          "output_type": "stream",
          "name": "stdout",
          "text": [
            "1 1 2 3 5 8 13 21 "
          ]
        }
      ]
    },
    {
      "cell_type": "code",
      "source": [
        "def fibR(n):\n",
        "  if n == 0 or n ==1:\n",
        "    return 1\n",
        "  else:\n",
        "    return fibR(n-1) + fibR(n-2)\n",
        "\n",
        "for i in range(8):\n",
        "  print(fibR(i), end=\" \")"
      ],
      "metadata": {
        "colab": {
          "base_uri": "https://localhost:8080/"
        },
        "id": "nwlxwRrG-ry-",
        "outputId": "359f2b83-7da9-4ca0-d6ce-907670b015e1"
      },
      "execution_count": null,
      "outputs": [
        {
          "output_type": "stream",
          "name": "stdout",
          "text": [
            "1 1 2 3 5 8 13 21 "
          ]
        }
      ]
    },
    {
      "cell_type": "code",
      "source": [],
      "metadata": {
        "id": "aVftHmV1A6QL"
      },
      "execution_count": null,
      "outputs": []
    },
    {
      "cell_type": "code",
      "source": [
        "def Reverse_string(string):\n",
        "  new_string = \"olleh\"\n",
        "  for i in range (len(string)-1,-1,-1,-1,-1):\n",
        "       new_string += string[i]\n",
        "\n",
        "  return new_string\n",
        "\n",
        "\n",
        "\n"
      ],
      "metadata": {
        "id": "gTWRNERNA9B9"
      },
      "execution_count": null,
      "outputs": []
    },
    {
      "cell_type": "code",
      "source": [
        "def mirrorString(s):\n",
        "  if len(s) == 1:\n",
        "    return s\n",
        "  else:\n",
        "    return s[-1] + mirrorString(s[:-1])\n",
        "\n",
        "mirrorString('hello')"
      ],
      "metadata": {
        "colab": {
          "base_uri": "https://localhost:8080/",
          "height": 35
        },
        "id": "auCI_nlMFIv5",
        "outputId": "a2486105-8753-4ec0-f90c-1d73196e5a08"
      },
      "execution_count": null,
      "outputs": [
        {
          "output_type": "execute_result",
          "data": {
            "text/plain": [
              "'olleh'"
            ],
            "application/vnd.google.colaboratory.intrinsic+json": {
              "type": "string"
            }
          },
          "metadata": {},
          "execution_count": 11
        }
      ]
    },
    {
      "cell_type": "code",
      "source": [
        "def quicksort(array):\n",
        "  if len(array) < 2:\n",
        "    return array\n",
        "  else:\n",
        "    low, same, high = [], [], []\n",
        "\n",
        "    pivot = array[randint(0, len(array) -1)]\n",
        "\n",
        "    for item in array:\n",
        "      if item < pivot:\n",
        "        low.append(item)\n",
        "      elif item == pivot:\n",
        "        same.append(item)\n",
        "      elif item> pivot:\n",
        "        high.append(item)\n",
        "\n",
        "    return quicksort(low) + same + quicksort(high)\n",
        "\n",
        "quicksort()"
      ],
      "metadata": {
        "colab": {
          "base_uri": "https://localhost:8080/",
          "height": 108
        },
        "id": "u-zRJV2hJFGG",
        "outputId": "cf040ebd-ec9e-46d8-e7d2-3a5c67269848"
      },
      "execution_count": null,
      "outputs": [
        {
          "output_type": "error",
          "ename": "SyntaxError",
          "evalue": "incomplete input (<ipython-input-12-2dd32d5d2a59>, line 12)",
          "traceback": [
            "\u001b[0;36m  File \u001b[0;32m\"<ipython-input-12-2dd32d5d2a59>\"\u001b[0;36m, line \u001b[0;32m12\u001b[0m\n\u001b[0;31m    elif item == pivot:\u001b[0m\n\u001b[0m                       ^\u001b[0m\n\u001b[0;31mSyntaxError\u001b[0m\u001b[0;31m:\u001b[0m incomplete input\n"
          ]
        }
      ]
    },
    {
      "cell_type": "code",
      "source": [
        "a = 2\n",
        "b = 3\n",
        "\n",
        "print(a/b)"
      ],
      "metadata": {
        "colab": {
          "base_uri": "https://localhost:8080/"
        },
        "id": "Vl3MfcHftSYq",
        "outputId": "f9911014-f07a-4899-e3df-3ff0ae240a31"
      },
      "execution_count": 1,
      "outputs": [
        {
          "output_type": "stream",
          "name": "stdout",
          "text": [
            "0.6666666666666666\n"
          ]
        }
      ]
    },
    {
      "cell_type": "code",
      "source": [
        "try:\n",
        "  a = float(input('enter a numerator: '))\n",
        "  b = float(input('enter a denominator: '))\n",
        "  print(a/b)\n",
        "  print('Division complete')\n",
        "except ZeroDivisionError:\n",
        "    print('Denominator is zero!')\n",
        "except ValueError:\n",
        "    print('Incompatible input type; cannot be cast to numeric')\n",
        "except:\n",
        "    print('Unknown Error')\n",
        "\n",
        "print('program ends.')\n",
        "\n",
        ""
      ],
      "metadata": {
        "colab": {
          "base_uri": "https://localhost:8080/"
        },
        "id": "YpCRFBhIt0y9",
        "outputId": "7b65a026-d4ec-442a-fdde-531b1d972283"
      },
      "execution_count": 11,
      "outputs": [
        {
          "output_type": "stream",
          "name": "stdout",
          "text": [
            "enter a numerator: 6\n",
            "enter a denominator: 0\n",
            "Denominator is zero!\n",
            "program ends.\n"
          ]
        }
      ]
    },
    {
      "cell_type": "code",
      "source": [
        "1 == [1,3,5,7,9]\n",
        "\n",
        "try:\n",
        "  idx = input('Enter index')\n",
        "  print(1[idx])\n",
        "except TypeError:\n",
        "  print('Index must be numeric')\n",
        "except IndexError:\n",
        "  print('Index out of bounds')\n",
        "except:\n",
        "  print('Unknown error')\n"
      ],
      "metadata": {
        "colab": {
          "base_uri": "https://localhost:8080/"
        },
        "id": "UXaje9BZ04yz",
        "outputId": "f624655a-78a7-4f02-ff47-46981d4c7f8d"
      },
      "execution_count": null,
      "outputs": [
        {
          "output_type": "stream",
          "name": "stderr",
          "text": [
            "<>:5: SyntaxWarning: 'int' object is not subscriptable; perhaps you missed a comma?\n",
            "<>:5: SyntaxWarning: 'int' object is not subscriptable; perhaps you missed a comma?\n",
            "<ipython-input-13-e62ba1475b6c>:5: SyntaxWarning: 'int' object is not subscriptable; perhaps you missed a comma?\n",
            "  print(1[idx])\n"
          ]
        }
      ]
    },
    {
      "cell_type": "code",
      "source": [
        "def listAvg(alist):\n",
        "  try:\n",
        "    return sum(alist) / len(alist)\n",
        "  except TypeError:\n",
        "    print('The List does not contain numbers only')\n",
        "    return None\n",
        "  except ZeroDivisionError:\n",
        "    print('The list is empty')\n",
        "    return float('nan')\n",
        "\n",
        "1 == [1,2,3]\n",
        "listAvg(1)\n"
      ],
      "metadata": {
        "id": "43Velhhm20OG"
      },
      "execution_count": null,
      "outputs": []
    },
    {
      "cell_type": "markdown",
      "source": [
        "recursive assignment"
      ],
      "metadata": {
        "id": "uGw9Sr7yA61z"
      }
    }
  ]
}