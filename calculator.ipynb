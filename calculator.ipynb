{
  "nbformat": 4,
  "nbformat_minor": 0,
  "metadata": {
    "colab": {
      "provenance": [],
      "authorship_tag": "ABX9TyMC3e5CxF5tdneyCe5qSodj",
      "include_colab_link": true
    },
    "kernelspec": {
      "name": "python3",
      "display_name": "Python 3"
    },
    "language_info": {
      "name": "python"
    }
  },
  "cells": [
    {
      "cell_type": "markdown",
      "metadata": {
        "id": "view-in-github",
        "colab_type": "text"
      },
      "source": [
        "<a href=\"https://colab.research.google.com/github/annahanonick/BTE-320/blob/main/calculator.ipynb\" target=\"_parent\"><img src=\"https://colab.research.google.com/assets/colab-badge.svg\" alt=\"Open In Colab\"/></a>"
      ]
    },
    {
      "cell_type": "code",
      "execution_count": null,
      "metadata": {
        "id": "Sj37--99W9GQ",
        "colab": {
          "base_uri": "https://localhost:8080/"
        },
        "outputId": "a5eaf5a0-1b13-44d2-e825-19af64505a88"
      },
      "outputs": [
        {
          "output_type": "stream",
          "name": "stdout",
          "text": [
            "Enter first value10\n",
            "Enter the operator*\n",
            "Enter second value5\n",
            "Result: 50.0\n",
            "Enter first value10\n",
            "Enter the operator+\n",
            "Enter second value5\n",
            "Result: 15.0\n"
          ]
        }
      ],
      "source": [
        "while True:\n",
        "  num1 = float(input('Enter first value'))\n",
        "  operator = input('Enter the operator')\n",
        "  num2 = float(input('Enter second value'))\n",
        "\n",
        "  if operator == 'break':\n",
        "    print(\"Goodbye!\")\n",
        "    break\n",
        "\n",
        "  if operator == \"+\":\n",
        "    answer = num1 + num2\n",
        "  elif operator == \"-\":\n",
        "    answer = num1 - num2\n",
        "  elif operator == \"*\":\n",
        "    answer = num1 * num2\n",
        "  elif operator == \"/\":\n",
        "    answer == num1 / num2\n",
        "  elif operator == \"//\":\n",
        "    answer == num1 // num2\n",
        "  elif operator == \"**\":\n",
        "    answer == num1 ** num2\n",
        "  elif operator == \"%\":\n",
        "    answer == num1 % num2\n",
        "  else:\n",
        "    print(\"invalid operator:\", operator)\n",
        "    continue\n",
        "  print(\"Result:\", answer)"
      ]
    }
  ]
}