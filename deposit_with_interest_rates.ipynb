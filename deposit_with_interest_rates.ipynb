{
  "nbformat": 4,
  "nbformat_minor": 0,
  "metadata": {
    "colab": {
      "provenance": [],
      "authorship_tag": "ABX9TyOUODbWMltt9sHcUmQJWfO3",
      "include_colab_link": true
    },
    "kernelspec": {
      "name": "python3",
      "display_name": "Python 3"
    },
    "language_info": {
      "name": "python"
    }
  },
  "cells": [
    {
      "cell_type": "markdown",
      "metadata": {
        "id": "view-in-github",
        "colab_type": "text"
      },
      "source": [
        "<a href=\"https://colab.research.google.com/github/annahanonick/BTE-320/blob/main/deposit_with_interest_rates.ipynb\" target=\"_parent\"><img src=\"https://colab.research.google.com/assets/colab-badge.svg\" alt=\"Open In Colab\"/></a>"
      ]
    },
    {
      "cell_type": "code",
      "execution_count": 7,
      "metadata": {
        "id": "6z9TTr27PPUq",
        "colab": {
          "base_uri": "https://localhost:8080/"
        },
        "outputId": "e294b4f8-901c-4fdf-b65a-b2ded36fcb59"
      },
      "outputs": [
        {
          "output_type": "stream",
          "name": "stdout",
          "text": [
            "Hi, please enter your name: anna\n",
            "Enter customer type (n: new, e:existing): new\n",
            "Enter deposit amount: $8000\n",
            "anna, you will hace $8260.0 in your account!\n"
          ]
        }
      ],
      "source": [
        "Name = input('Hi, please enter your name: ')\n",
        "Customer_type = input('Enter customer type (n: new, e:existing): ')\n",
        "Deposit = float(input(\"Enter deposit amount: $\"))\n",
        "\n",
        "\n",
        "if Customer_type == 'n':\n",
        "    Interest = 0.03\n",
        "else:\n",
        "  if Deposit <= 1000:\n",
        "    Interest = float(0.03)\n",
        "  elif Deposit <= 10000:\n",
        "    Interest = float(0.0325)\n",
        "  elif Deposit > 10000:\n",
        "    Interest = float (0.035)\n",
        "\n",
        "Amount = (1 + Interest)* Deposit\n",
        "print(f'{Name}, you will hace ${round(Amount,2)} in your account!')"
      ]
    }
  ]
}