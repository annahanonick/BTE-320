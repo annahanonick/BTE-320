{
  "nbformat": 4,
  "nbformat_minor": 0,
  "metadata": {
    "colab": {
      "provenance": [],
      "authorship_tag": "ABX9TyP+3RbcAQQtiD0ZmBDiK8jK",
      "include_colab_link": true
    },
    "kernelspec": {
      "name": "python3",
      "display_name": "Python 3"
    },
    "language_info": {
      "name": "python"
    }
  },
  "cells": [
    {
      "cell_type": "markdown",
      "metadata": {
        "id": "view-in-github",
        "colab_type": "text"
      },
      "source": [
        "<a href=\"https://colab.research.google.com/github/annahanonick/BTE-320/blob/main/parking_garage.ipynb\" target=\"_parent\"><img src=\"https://colab.research.google.com/assets/colab-badge.svg\" alt=\"Open In Colab\"/></a>"
      ]
    },
    {
      "cell_type": "code",
      "execution_count": 1,
      "metadata": {
        "colab": {
          "base_uri": "https://localhost:8080/"
        },
        "id": "A_eOw81tTkXy",
        "outputId": "1be67182-2642-4542-ad06-14c1378512c1"
      },
      "outputs": [
        {
          "output_type": "stream",
          "name": "stdout",
          "text": [
            "8 $20.0\n"
          ]
        }
      ],
      "source": [
        "for hour in range(1,9):\n",
        "  fee = 5 + 2.5* hour\n",
        "if fee<10:\n",
        "  fee = 10.0\n",
        "elif fee>20:\n",
        "  fee = 20.0\n",
        "print (f'{hour} ${fee}')"
      ]
    }
  ]
}